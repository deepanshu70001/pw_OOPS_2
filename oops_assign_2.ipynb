{
 "cells": [
  {
   "cell_type": "code",
   "execution_count": 1,
   "id": "1ffdebe7-21bd-46e0-8b4a-19ae4dabc99a",
   "metadata": {},
   "outputs": [],
   "source": [
    "#q1)\n",
    "class vehicle:\n",
    "    def __init__(self,name_of_vehicle,max_speed,average_of_vehicle):\n",
    "        self.name_of_vehicle=name_of_vehicle\n",
    "        self.max_speed=max_speed\n",
    "        self.average_of_vehicle=average_of_vehicle\n"
   ]
  },
  {
   "cell_type": "code",
   "execution_count": 24,
   "id": "a2d673f2-ec91-447f-80d3-20f93309147c",
   "metadata": {},
   "outputs": [],
   "source": [
    "#q2)\n",
    "class car(vehicle):\n",
    "    def seating_capacity(self,seating_cap):\n",
    "        self.seating_cap=seating_cap\n",
    "        return self.name_of_vehicle\n",
    "        return self.seating_cap"
   ]
  },
  {
   "cell_type": "code",
   "execution_count": 25,
   "id": "87ea2f51-6cd8-4f68-b9c9-14c604001ab6",
   "metadata": {},
   "outputs": [],
   "source": [
    "creta=car(\"creta\",240,16)"
   ]
  },
  {
   "cell_type": "code",
   "execution_count": 26,
   "id": "54a0bd5f-dae5-4392-9bca-92747f57659d",
   "metadata": {},
   "outputs": [
    {
     "data": {
      "text/plain": [
       "'creta'"
      ]
     },
     "execution_count": 26,
     "metadata": {},
     "output_type": "execute_result"
    }
   ],
   "source": [
    "creta.seating_capacity(5)"
   ]
  },
  {
   "cell_type": "code",
   "execution_count": 27,
   "id": "200d5334-7047-43d7-888c-ea15c6f60a6a",
   "metadata": {},
   "outputs": [],
   "source": [
    "#q3)\n",
    "#when a class inherit function , data from two or more class is known as multiple inheritance \n",
    "class class1:\n",
    "    def print_msg():\n",
    "        print(\"msg from class 1\")\n",
    "class class2:\n",
    "    def print_msg2():\n",
    "        print(\"msg from class 2\")\n",
    "class class3(class1,class2):   # class 3 inherit data from class 1 , 2\n",
    "    pass\n"
   ]
  },
  {
   "cell_type": "code",
   "execution_count": 28,
   "id": "30901a76-7745-4bf8-859b-dc34a6c17160",
   "metadata": {},
   "outputs": [
    {
     "name": "stdout",
     "output_type": "stream",
     "text": [
      "msg from class 1\n"
     ]
    }
   ],
   "source": [
    "class3.print_msg() #we can acess function of class 1 by calling class 3\n"
   ]
  },
  {
   "cell_type": "code",
   "execution_count": 30,
   "id": "8dbd28f8-a03f-466d-a099-bdddfe2a2ebd",
   "metadata": {},
   "outputs": [
    {
     "name": "stdout",
     "output_type": "stream",
     "text": [
      "msg from class 2\n"
     ]
    }
   ],
   "source": [
    "class3.print_msg2()"
   ]
  },
  {
   "cell_type": "code",
   "execution_count": 36,
   "id": "b7e2c059-6602-4a42-9405-cc181dfefa8a",
   "metadata": {},
   "outputs": [],
   "source": [
    "#q4)\n",
    "#getter and setter methods allow us to access and mutate private attributes while maintaining encapsulation.\n",
    "class account:\n",
    "    def __init__(self,name,age,balance):\n",
    "        self.__name=name\n",
    "        self.__age=age\n",
    "        self.__balance=balance\n",
    "    @property\n",
    "    def print_bal(self):\n",
    "        return self.__balance\n",
    "    @print_bal.setter\n",
    "    def new_bal(self,bal):\n",
    "        self.__balance=bal\n",
    "        return self.__balance\n",
    "        "
   ]
  },
  {
   "cell_type": "code",
   "execution_count": 37,
   "id": "7712d8c0-caa3-488f-ae82-692df17b6d18",
   "metadata": {},
   "outputs": [],
   "source": [
    "acc1=account(\"abc\",100,100000)"
   ]
  },
  {
   "cell_type": "code",
   "execution_count": 38,
   "id": "3cad2f5c-5dcd-4254-92d0-9cd0c9533c2d",
   "metadata": {},
   "outputs": [
    {
     "data": {
      "text/plain": [
       "100000"
      ]
     },
     "execution_count": 38,
     "metadata": {},
     "output_type": "execute_result"
    }
   ],
   "source": [
    "acc1.print_bal"
   ]
  },
  {
   "cell_type": "code",
   "execution_count": 41,
   "id": "d295699b-d17a-4531-bde8-05ea72291c7b",
   "metadata": {},
   "outputs": [],
   "source": [
    "acc1.new_bal=100"
   ]
  },
  {
   "cell_type": "code",
   "execution_count": 42,
   "id": "b1f1c76f-2e95-4c20-8f2f-76d7ceb416fc",
   "metadata": {},
   "outputs": [
    {
     "data": {
      "text/plain": [
       "100"
      ]
     },
     "execution_count": 42,
     "metadata": {},
     "output_type": "execute_result"
    }
   ],
   "source": [
    "acc1.print_bal"
   ]
  },
  {
   "cell_type": "code",
   "execution_count": null,
   "id": "7f3eb752-835a-464f-a0e4-8ffe8ad9fbb3",
   "metadata": {},
   "outputs": [],
   "source": [
    "#q5)\n",
    "#It allows the child class to provide the specific implementation of the method that\n",
    "#is already provided by the parent class. This is used to change the behavior of existing methods\n"
   ]
  }
 ],
 "metadata": {
  "kernelspec": {
   "display_name": "Python 3 (ipykernel)",
   "language": "python",
   "name": "python3"
  },
  "language_info": {
   "codemirror_mode": {
    "name": "ipython",
    "version": 3
   },
   "file_extension": ".py",
   "mimetype": "text/x-python",
   "name": "python",
   "nbconvert_exporter": "python",
   "pygments_lexer": "ipython3",
   "version": "3.10.8"
  }
 },
 "nbformat": 4,
 "nbformat_minor": 5
}
